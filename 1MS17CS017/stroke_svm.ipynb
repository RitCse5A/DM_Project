{
 "cells": [
  {
   "cell_type": "code",
   "execution_count": 1,
   "metadata": {
    "scrolled": false
   },
   "outputs": [
    {
     "name": "stdout",
     "output_type": "stream",
     "text": [
      "Initial amount of data ->  3400\n",
      "\n",
      " Data grouped by Stroke : \n",
      "        index  Gender   Age  Hypertension  Heart_Disease  Ever_Married  \\\n",
      "Stroke                                                                   \n",
      "0        2617    2617  2617          2617           2617          2617   \n",
      "1         783     783   783           783            783           783   \n",
      "\n",
      "        Type_Of_Work  Residence  Avg_Glucose   BMI  Smoking_Status  \n",
      "Stroke                                                              \n",
      "0               2617       2617         2617  2527            1809  \n",
      "1                783        783          783   643             638  \n",
      "\n",
      " Data grouped by Gender : \n",
      "        index   Age  Hypertension  Heart_Disease  Ever_Married  Type_Of_Work  \\\n",
      "Gender                                                                         \n",
      "Female   2006  2006          2006           2006          2006          2006   \n",
      "Male     1393  1393          1393           1393          1393          1393   \n",
      "Other       1     1             1              1             1             1   \n",
      "\n",
      "        Residence  Avg_Glucose   BMI  Smoking_Status  Stroke  \n",
      "Gender                                                        \n",
      "Female       2006         2006  1885            1471    2006  \n",
      "Male         1393         1393  1284             975    1393  \n",
      "Other           1            1     1               1       1  \n",
      "\n",
      " Grouping and counting values by output value\n",
      "        index  Gender   Age  Hypertension  Heart_Disease  Ever_Married  \\\n",
      "Stroke                                                                   \n",
      "0        1809    1809  1809          1809           1809          1809   \n",
      "1         638     638   638           638            638           638   \n",
      "\n",
      "        Type_Of_Work  Residence  Avg_Glucose   BMI  Smoking_Status  \n",
      "Stroke                                                              \n",
      "0               1809       1809         1809  1740            1809  \n",
      "1                638        638          638   548             638  \n",
      "\n",
      "Amount of data after delete gaps for smoking status ->  2447\n",
      "\n",
      "After removing too large amount of years\n",
      "      level_0  index  Gender  Hypertension  Heart_Disease  Ever_Married  \\\n",
      "Age                                                                      \n",
      "10         5      5       5             5              5             5   \n",
      "11         3      3       3             3              3             3   \n",
      "12         7      7       7             7              7             7   \n",
      "13         8      8       8             8              8             8   \n",
      "14        12     12      12            12             12            12   \n",
      "15        19     19      19            19             19            19   \n",
      "16        12     12      12            12             12            12   \n",
      "17        30     30      30            30             30            30   \n",
      "18        21     21      21            21             21            21   \n",
      "19        18     18      18            18             18            18   \n",
      "20        22     22      22            22             22            22   \n",
      "21        18     18      18            18             18            18   \n",
      "22        21     21      21            21             21            21   \n",
      "23        24     24      24            24             24            24   \n",
      "24        16     16      16            16             16            16   \n",
      "25        27     27      27            27             27            27   \n",
      "26        26     26      26            26             26            26   \n",
      "27        26     26      26            26             26            26   \n",
      "28        22     22      22            22             22            22   \n",
      "29        21     21      21            21             21            21   \n",
      "30        26     26      26            26             26            26   \n",
      "31        20     20      20            20             20            20   \n",
      "32        24     24      24            24             24            24   \n",
      "33        25     25      25            25             25            25   \n",
      "34        28     28      28            28             28            28   \n",
      "35        27     27      27            27             27            27   \n",
      "36        23     23      23            23             23            23   \n",
      "37        27     27      27            27             27            27   \n",
      "38        35     35      35            35             35            35   \n",
      "39        27     27      27            27             27            27   \n",
      "..       ...    ...     ...           ...            ...           ...   \n",
      "53        34     34      34            34             34            34   \n",
      "54        54     54      54            54             54            54   \n",
      "55        39     39      39            39             39            39   \n",
      "56        48     48      48            48             48            48   \n",
      "57        42     42      42            42             42            42   \n",
      "58        43     43      43            43             43            43   \n",
      "59        52     52      52            52             52            52   \n",
      "60        35     35      35            35             35            35   \n",
      "61        34     34      34            34             34            34   \n",
      "62        43     43      43            43             43            43   \n",
      "63        47     47      47            47             47            47   \n",
      "64        37     37      37            37             37            37   \n",
      "65        45     45      45            45             45            45   \n",
      "66        45     45      45            45             45            45   \n",
      "67        35     35      35            35             35            35   \n",
      "68        51     51      51            51             51            51   \n",
      "69        38     38      38            38             38            38   \n",
      "70        43     43      43            43             43            43   \n",
      "71        30     30      30            30             30            30   \n",
      "72        40     40      40            40             40            40   \n",
      "73        28     28      28            28             28            28   \n",
      "74        31     31      31            31             31            31   \n",
      "75        30     30      30            30             30            30   \n",
      "76        33     33      33            33             33            33   \n",
      "77        38     38      38            38             38            38   \n",
      "78        79     79      79            79             79            79   \n",
      "79        87     87      87            87             87            87   \n",
      "80        62     62      62            62             62            62   \n",
      "81        55     55      55            55             55            55   \n",
      "82        43     43      43            43             43            43   \n",
      "\n",
      "     Type_Of_Work  Residence  Avg_Glucose  BMI  Smoking_Status  Stroke  \n",
      "Age                                                                     \n",
      "10              5          5            5    5               5       5  \n",
      "11              3          3            3    3               3       3  \n",
      "12              7          7            7    7               7       7  \n",
      "13              8          8            8    8               8       8  \n",
      "14             12         12           12   12              12      12  \n",
      "15             19         19           19   17              19      19  \n",
      "16             12         12           12   12              12      12  \n",
      "17             30         30           30   30              30      30  \n",
      "18             21         21           21   21              21      21  \n",
      "19             18         18           18   18              18      18  \n",
      "20             22         22           22   22              22      22  \n",
      "21             18         18           18   18              18      18  \n",
      "22             21         21           21   21              21      21  \n",
      "23             24         24           24   24              24      24  \n",
      "24             16         16           16   15              16      16  \n",
      "25             27         27           27   27              27      27  \n",
      "26             26         26           26   26              26      26  \n",
      "27             26         26           26   26              26      26  \n",
      "28             22         22           22   22              22      22  \n",
      "29             21         21           21   19              21      21  \n",
      "30             26         26           26   23              26      26  \n",
      "31             20         20           20   20              20      20  \n",
      "32             24         24           24   23              24      24  \n",
      "33             25         25           25   24              25      25  \n",
      "34             28         28           28   26              28      28  \n",
      "35             27         27           27   25              27      27  \n",
      "36             23         23           23   22              23      23  \n",
      "37             27         27           27   27              27      27  \n",
      "38             35         35           35   33              35      35  \n",
      "39             27         27           27   26              27      27  \n",
      "..            ...        ...          ...  ...             ...     ...  \n",
      "53             34         34           34   31              34      34  \n",
      "54             54         54           54   54              54      54  \n",
      "55             39         39           39   36              39      39  \n",
      "56             48         48           48   47              48      48  \n",
      "57             42         42           42   38              42      42  \n",
      "58             43         43           43   40              43      43  \n",
      "59             52         52           52   48              52      52  \n",
      "60             35         35           35   34              35      35  \n",
      "61             34         34           34   32              34      34  \n",
      "62             43         43           43   39              43      43  \n",
      "63             47         47           47   42              47      47  \n",
      "64             37         37           37   33              37      37  \n",
      "65             45         45           45   38              45      45  \n",
      "66             45         45           45   38              45      45  \n",
      "67             35         35           35   30              35      35  \n",
      "68             51         51           51   48              51      51  \n",
      "69             38         38           38   34              38      38  \n",
      "70             43         43           43   39              43      43  \n",
      "71             30         30           30   23              30      30  \n",
      "72             40         40           40   39              40      40  \n",
      "73             28         28           28   26              28      28  \n",
      "74             31         31           31   28              31      31  \n",
      "75             30         30           30   27              30      30  \n",
      "76             33         33           33   26              33      33  \n",
      "77             38         38           38   32              38      38  \n",
      "78             79         79           79   70              79      79  \n",
      "79             87         87           87   79              87      87  \n",
      "80             62         62           62   60              62      62  \n",
      "81             55         55           55   51              55      55  \n",
      "82             43         43           43   41              43      43  \n",
      "\n",
      "[73 rows x 12 columns]\n",
      "\n",
      "\n",
      "Statistic informations after processing of data...\n",
      "\n",
      "Saved percent of whole data -> 71.97\n",
      "Saved percent of stroke output -> 81.48\n",
      "Saved percent of not stroke output -> 69.12\n",
      "There is 159 gaps in whole dataset. All of them will be replaced by mean value of column\n",
      "\n",
      "\n",
      "Data saved in location ->  Preprocessed_stroke_data.csv\n"
     ]
    }
   ],
   "source": [
    "import pandas as pd\n",
    "import numpy as np\n",
    "\n",
    "initial_data = pd.read_csv('train_2v.csv', sep=',',\n",
    "                           names=['ID', 'Gender', 'Age', 'Hypertension', 'Heart_Disease', 'Ever_Married',\n",
    "                                  'Type_Of_Work', 'Residence', 'Avg_Glucose', 'BMI', 'Smoking_Status', 'Stroke'])\n",
    "\n",
    "initial_data = initial_data.drop(index=0).reset_index()#dropping index\n",
    "initial_data = initial_data.drop(columns=['index', 'ID'])\n",
    "\n",
    "i = 0\n",
    "for idx, row in initial_data.iterrows():                #data is biased towards people with stroke = 0\n",
    "    if int(row[\"Stroke\"]) == 0:                         #deleting data with stroke = 0\n",
    "        initial_data.drop(idx, inplace=True)\n",
    "        i += 1 \n",
    "    if i == 40000:                                      #size of dataset = 40000\n",
    "        break\n",
    "\n",
    "initial_data = initial_data.reset_index()\n",
    "initial_amount_data = len(initial_data)\n",
    "print('Initial amount of data -> ', initial_amount_data)\n",
    "\n",
    "# grouping and counting values by output value\n",
    "print(\"\\n Data grouped by Stroke : \")\n",
    "print(initial_data.groupby('Stroke').count())\n",
    "print(\"\\n Data grouped by Gender : \")\n",
    "print(initial_data.groupby('Gender').count())\n",
    "\n",
    "initial_data_not_stroke = len([i for i in initial_data['Stroke'] if int(i) == 0])\n",
    "initial_data_stroke = len([i for i in initial_data['Stroke'] if int(i) == 1])\n",
    "\n",
    "data = initial_data.copy()\n",
    "\n",
    "for idx, row in enumerate(data.values):\n",
    "    if isinstance(data['Smoking_Status'].loc[idx], float):\n",
    "        stroke_value = data['Stroke'].loc[idx]\n",
    "        data.drop(idx, inplace=True)                        # Removing rows with no information about smoking status\n",
    "        \n",
    "\n",
    "print(\"\\n Grouping and counting values by output value\")\n",
    "print(data.groupby('Stroke').count())\n",
    "\n",
    "data_without_gaps = len(data)\n",
    "print('\\nAmount of data after delete gaps for smoking status -> ', data_without_gaps)\n",
    "\n",
    "data = data.reset_index()\n",
    "\n",
    "for idx, row in data.iterrows():\n",
    "    if float(row['Age']) > 120:  # Removing values with people who has is more than 120 years, because we'are assuming that is impossible\n",
    "        data.drop(idx, inplace=True)\n",
    "\n",
    "print('\\nAfter removing too large amount of years\\n', data.groupby('Age').count())\n",
    "\n",
    "\n",
    "data_not_stroke = len([i for i in data['Stroke'] if int(i) == 0])\n",
    "data_stroke = len([i for i in data['Stroke'] if int(i) == 1])\n",
    "\n",
    "print('\\n\\nStatistic informations after processing of data...\\n')\n",
    "print('Saved percent of whole data ->', round((data_without_gaps/initial_amount_data)*100, 2))\n",
    "print('Saved percent of stroke output ->', round((data_stroke/initial_data_stroke)*100, 2))\n",
    "print('Saved percent of not stroke output ->', round((data_not_stroke/initial_data_not_stroke)*100, 2))\n",
    "print('There is {0} gaps in whole dataset. All of them will be replaced by mean value of column'\n",
    "      .format(data.isna().sum()['BMI']))\n",
    "\n",
    "data = data.astype({'BMI': np.float})\n",
    "data[data == np.inf] = np.nan\n",
    "data.fillna(data['BMI'].mean(), inplace=True)\n",
    "\n",
    "# mixed order of columns for future simpler ways to processing\n",
    "data_in_proper_order = data[['Type_Of_Work', 'Smoking_Status', 'Gender', 'Ever_Married', 'Residence', 'BMI',\n",
    "                             'Age', 'Hypertension', 'Heart_Disease', 'Avg_Glucose', 'Stroke']]\n",
    "\n",
    "name_save = 'Preprocessed_stroke_data.csv'\n",
    "data_in_proper_order.to_csv(name_save, index=False)\n",
    "\n",
    "print('\\n\\nData saved in location -> ', name_save)"
   ]
  },
  {
   "cell_type": "code",
   "execution_count": 2,
   "metadata": {
    "scrolled": false
   },
   "outputs": [
    {
     "name": "stdout",
     "output_type": "stream",
     "text": [
      "the encoded values for 5 columns: \n",
      "[[2 0 1 ... 0 1 228.69]\n",
      " [3 1 0 ... 0 0 202.21]\n",
      " [2 1 1 ... 0 1 105.92]\n",
      " ...\n",
      " [2 0 0 ... 1 0 91.94]\n",
      " [2 1 1 ... 0 0 99.16]\n",
      " [2 1 0 ... 0 0 79.48]]\n"
     ]
    },
    {
     "name": "stderr",
     "output_type": "stream",
     "text": [
      "/home/ashika/anaconda3/lib/python3.7/site-packages/sklearn/utils/validation.py:595: DataConversionWarning: Data with input dtype object was converted to float64 by StandardScaler.\n",
      "  warnings.warn(msg, DataConversionWarning)\n",
      "/home/ashika/anaconda3/lib/python3.7/site-packages/sklearn/utils/validation.py:595: DataConversionWarning: Data with input dtype object was converted to float64 by StandardScaler.\n",
      "  warnings.warn(msg, DataConversionWarning)\n",
      "/home/ashika/anaconda3/lib/python3.7/site-packages/sklearn/utils/validation.py:595: DataConversionWarning: Data with input dtype object was converted to float64 by StandardScaler.\n",
      "  warnings.warn(msg, DataConversionWarning)\n"
     ]
    },
    {
     "name": "stdout",
     "output_type": "stream",
     "text": [
      "y_pred :\n",
      "[0 0 0 0 0 0 0 0 0 0 0 0 0 0 0 0 0 0 0 0 0 0 0 0 0 0 1 0 0 0 0 0 0 0 0 0 0\n",
      " 0 0 0 0 0 0 0 0 0 0 0 0 0 0 0 0 0 0 0 1 0 0 0 0 0 0 0 0 1 0 1 0 0 0 0 0 1\n",
      " 0 0 0 0 0 0 0 0 1 0 1 0 0 0 1 1 0 0 0 0 0 0 0 0 1 0 1 0 0 0 0 0 1 0 0 0 0\n",
      " 1 0 1 0 0 0 0 0 0 0 0 1 0 1 0 0 0 0 0 0 0 0 0 0 0 0 0 0 1 0 0 0 0 0 0 0 1\n",
      " 0 0 0 0 0 0 0 0 0 0 0 0 0 0 0 1 1 0 1 0 0 0 0 0 0 0 0 0 0 0 1 0 0 0 0 0 0\n",
      " 0 0 0 0 0 0 0 1 1 0 0 0 0 0 1 0 0 0 0 0 0 0 0 1 1 0 0 0 0 0 0 0 0 0 0 0 0\n",
      " 0 0 0 0 0 0 0 0 0 0 0 0 0 0 0 0 0 0 0 0 0 0 0]\n",
      "the confusion matrix obtained is : \n",
      "[[166  14]\n",
      " [ 52  13]]\n"
     ]
    }
   ],
   "source": [
    "import pandas as pd\n",
    "from sklearn.preprocessing import LabelEncoder, OneHotEncoder, StandardScaler\n",
    "from sklearn.model_selection import train_test_split\n",
    "from sklearn.svm import SVC\n",
    "from sklearn.metrics import confusion_matrix\n",
    "\n",
    "\n",
    "data = pd.read_csv('Preprocessed_stroke_data.csv', sep=',')\n",
    "\n",
    "\n",
    "X = data.iloc[:, :-1].values    # matrix of features/attributes upto Avg_Glucose\n",
    "y = data.iloc[:, -1].values     # vector of Stroke variables\n",
    "#print(X)\n",
    "#print(y)\n",
    "\n",
    "labelencoder_X = LabelEncoder()\n",
    "for i in range(5):               # encoding valuesof all text attributes\n",
    "    X[:, i] = labelencoder_X.fit_transform(X[:, i])\n",
    "print(\"the encoded values for 5 columns: \")\n",
    "print(X)\n",
    "\n",
    "# Splitting the dataset into the Training set(90%) and Test set(10%)\n",
    "X_train, X_test, y_train, y_test = train_test_split(X, y, test_size=0.1, random_state=0)\n",
    "\n",
    "# Feature Scaling\n",
    "sc = StandardScaler()\n",
    "X_train = sc.fit_transform(X_train)\n",
    "X_test = sc.transform(X_test)\n",
    "\n",
    "# Fitting Linear Kernel SVM to the Training set\n",
    "classifier = SVC(kernel='linear', random_state=0)\n",
    "classifier.fit(X_train, y_train)\n",
    "\n",
    "# Predicting the Test set results based on training set\n",
    "y_pred = classifier.predict(X_test)\n",
    "print(\"y_pred :\")\n",
    "print(y_pred)\n",
    "\n",
    "# Making the Confusion Matrix\n",
    "cm = confusion_matrix(y_test, y_pred) \n",
    "print(\"the confusion matrix obtained is : \")\n",
    "print(cm)"
   ]
  },
  {
   "cell_type": "code",
   "execution_count": 3,
   "metadata": {
    "scrolled": false
   },
   "outputs": [
    {
     "name": "stdout",
     "output_type": "stream",
     "text": [
      "graph predicting stroke using BMI and Heart Disease\n",
      "[[ 1.11098493e-04 -4.77540378e-05  4.03754183e-05 -8.10470912e-05\n",
      "   1.83837455e-05 -1.21599602e-04  4.29925184e-04  8.98321266e-05\n",
      "   5.71898466e-01  1.82927695e-04]]\n",
      "[-0.82022191]\n"
     ]
    },
    {
     "data": {
      "image/png": "[encoded data removed]",
      "text/plain": [
       "<Figure size 432x288 with 1 Axes>"
      ]
     },
     "metadata": {
      "needs_background": "light"
     },
     "output_type": "display_data"
    }
   ],
   "source": [
    "#from matplotlib.colors import ListedColormap\n",
    "import matplotlib.pyplot as plt\n",
    "%matplotlib inline\n",
    "\n",
    "print(\"graph predicting stroke using BMI and Heart Disease\")\n",
    "# Plot data points and color using their class\n",
    "color = ['red' if stroke == 1 else 'green' for stroke in y_train]\n",
    "plt.scatter(X_train[:,5], X_train[:,8], c=color)\n",
    "print(classifier.coef_)\n",
    "print(classifier.intercept_)\n",
    "# Create the hyperplane\n",
    "w = classifier.coef_[0]\n",
    "a = -w[5] / w[8]\n",
    "xx = np.linspace(-2.5, 2.5)\n",
    "yy = a * xx - (classifier.intercept_[0]) / w[8]\n",
    "\n",
    "# Plot the hyperplane\n",
    "plt.plot(xx, yy)\n",
    "plt.axis(\"off\"), plt.show();"
   ]
  },
  {
   "cell_type": "code",
   "execution_count": 4,
   "metadata": {},
   "outputs": [
    {
     "name": "stdout",
     "output_type": "stream",
     "text": [
      "graph predicting stroke using Age and Heart Disease\n",
      "[[ 1.11098493e-04 -4.77540378e-05  4.03754183e-05 -8.10470912e-05\n",
      "   1.83837455e-05 -1.21599602e-04  4.29925184e-04  8.98321266e-05\n",
      "   5.71898466e-01  1.82927695e-04]]\n",
      "[-0.82022191]\n"
     ]
    },
    {
     "data": {
      "image/png": "[encoded data removed]",
      "text/plain": [
       "<Figure size 432x288 with 1 Axes>"
      ]
     },
     "metadata": {
      "needs_background": "light"
     },
     "output_type": "display_data"
    }
   ],
   "source": [
    "#from matplotlib.colors import ListedColormap\n",
    "import matplotlib.pyplot as plt\n",
    "%matplotlib inline\n",
    "\n",
    "print(\"graph predicting stroke using Age and Heart Disease\")\n",
    "# Plot data points and color using their class\n",
    "color = ['red' if stroke == 1 else 'green' for stroke in y_train]\n",
    "plt.scatter(X_train[:,6], X_train[:,8], c=color)\n",
    "print(classifier.coef_)\n",
    "print(classifier.intercept_)\n",
    "# Create the hyperplane\n",
    "w = classifier.coef_[0]\n",
    "a = -w[6] / w[8]\n",
    "xx = np.linspace(-2.5, 2.5)\n",
    "yy = a * xx - (classifier.intercept_[0]) / w[8]\n",
    "\n",
    "# Plot the hyperplane\n",
    "plt.plot(xx, yy)\n",
    "plt.axis(\"off\"), plt.show();"
   ]
  },
  {
   "cell_type": "code",
   "execution_count": 7,
   "metadata": {
    "scrolled": false
   },
   "outputs": [
    {
     "name": "stdout",
     "output_type": "stream",
     "text": [
      "Graph predicting stroke using Heart Disease and Average Glucose\n",
      "i : 0\n",
      "j : 0\n",
      "[[ 1.11098493e-04 -4.77540378e-05  4.03754183e-05 -8.10470912e-05\n",
      "   1.83837455e-05 -1.21599602e-04  4.29925184e-04  8.98321266e-05\n",
      "   5.71898466e-01  1.82927695e-04]]\n",
      "[-0.82022191]\n"
     ]
    },
    {
     "data": {
      "image/png": "[encoded data removed]",
      "text/plain": [
       "<Figure size 432x288 with 1 Axes>"
      ]
     },
     "metadata": {
      "needs_background": "light"
     },
     "output_type": "display_data"
    },
    {
     "name": "stdout",
     "output_type": "stream",
     "text": [
      "i : 0\n",
      "j : 1\n",
      "[[ 1.11098493e-04 -4.77540378e-05  4.03754183e-05 -8.10470912e-05\n",
      "   1.83837455e-05 -1.21599602e-04  4.29925184e-04  8.98321266e-05\n",
      "   5.71898466e-01  1.82927695e-04]]\n",
      "[-0.82022191]\n"
     ]
    },
    {
     "data": {
      "image/png": "[encoded data removed]",
      "text/plain": [
       "<Figure size 432x288 with 1 Axes>"
      ]
     },
     "metadata": {
      "needs_background": "light"
     },
     "output_type": "display_data"
    },
    {
     "name": "stdout",
     "output_type": "stream",
     "text": [
      "i : 0\n",
      "j : 2\n",
      "[[ 1.11098493e-04 -4.77540378e-05  4.03754183e-05 -8.10470912e-05\n",
      "   1.83837455e-05 -1.21599602e-04  4.29925184e-04  8.98321266e-05\n",
      "   5.71898466e-01  1.82927695e-04]]\n",
      "[-0.82022191]\n"
     ]
    },
    {
     "data": {
      "image/png": "[encoded data removed]",
      "text/plain": [
       "<Figure size 432x288 with 1 Axes>"
      ]
     },
     "metadata": {
      "needs_background": "light"
     },
     "output_type": "display_data"
    },
    {
     "name": "stdout",
     "output_type": "stream",
     "text": [
      "i : 0\n",
      "j : 3\n",
      "[[ 1.11098493e-04 -4.77540378e-05  4.03754183e-05 -8.10470912e-05\n",
      "   1.83837455e-05 -1.21599602e-04  4.29925184e-04  8.98321266e-05\n",
      "   5.71898466e-01  1.82927695e-04]]\n",
      "[-0.82022191]\n"
     ]
    },
    {
     "data": {
      "image/png": "[encoded data removed]",
      "text/plain": [
       "<Figure size 432x288 with 1 Axes>"
      ]
     },
     "metadata": {
      "needs_background": "light"
     },
     "output_type": "display_data"
    },
    {
     "name": "stdout",
     "output_type": "stream",
     "text": [
      "i : 0\n",
      "j : 4\n",
      "[[ 1.11098493e-04 -4.77540378e-05  4.03754183e-05 -8.10470912e-05\n",
      "   1.83837455e-05 -1.21599602e-04  4.29925184e-04  8.98321266e-05\n",
      "   5.71898466e-01  1.82927695e-04]]\n",
      "[-0.82022191]\n"
     ]
    },
    {
     "data": {
      "image/png": "[encoded data removed]",
      "text/plain": [
       "<Figure size 432x288 with 1 Axes>"
      ]
     },
     "metadata": {
      "needs_background": "light"
     },
     "output_type": "display_data"
    },
    {
     "name": "stdout",
     "output_type": "stream",
     "text": [
      "i : 0\n",
      "j : 5\n",
      "[[ 1.11098493e-04 -4.77540378e-05  4.03754183e-05 -8.10470912e-05\n",
      "   1.83837455e-05 -1.21599602e-04  4.29925184e-04  8.98321266e-05\n",
      "   5.71898466e-01  1.82927695e-04]]\n",
      "[-0.82022191]\n"
     ]
    },
    {
     "data": {
      "image/png": "[encoded data removed]",
      "text/plain": [
       "<Figure size 432x288 with 1 Axes>"
      ]
     },
     "metadata": {
      "needs_background": "light"
     },
     "output_type": "display_data"
    },
    {
     "name": "stdout",
     "output_type": "stream",
     "text": [
      "i : 0\n",
      "j : 6\n",
      "[[ 1.11098493e-04 -4.77540378e-05  4.03754183e-05 -8.10470912e-05\n",
      "   1.83837455e-05 -1.21599602e-04  4.29925184e-04  8.98321266e-05\n",
      "   5.71898466e-01  1.82927695e-04]]\n",
      "[-0.82022191]\n"
     ]
    },
    {
     "data": {
      "image/png": "[encoded data removed]",
      "text/plain": [
       "<Figure size 432x288 with 1 Axes>"
      ]
     },
     "metadata": {
      "needs_background": "light"
     },
     "output_type": "display_data"
    },
    {
     "name": "stdout",
     "output_type": "stream",
     "text": [
      "i : 0\n",
      "j : 7\n",
      "[[ 1.11098493e-04 -4.77540378e-05  4.03754183e-05 -8.10470912e-05\n",
      "   1.83837455e-05 -1.21599602e-04  4.29925184e-04  8.98321266e-05\n",
      "   5.71898466e-01  1.82927695e-04]]\n",
      "[-0.82022191]\n"
     ]
    },
    {
     "data": {
      "image/png": "[encoded data removed]",
      "text/plain": [
       "<Figure size 432x288 with 1 Axes>"
      ]
     },
     "metadata": {
      "needs_background": "light"
     },
     "output_type": "display_data"
    },
    {
     "name": "stdout",
     "output_type": "stream",
     "text": [
      "i : 0\n",
      "j : 8\n",
      "[[ 1.11098493e-04 -4.77540378e-05  4.03754183e-05 -8.10470912e-05\n",
      "   1.83837455e-05 -1.21599602e-04  4.29925184e-04  8.98321266e-05\n",
      "   5.71898466e-01  1.82927695e-04]]\n",
      "[-0.82022191]\n"
     ]
    },
    {
     "data": {
      "image/png": "[encoded data removed]",
      "text/plain": [
       "<Figure size 432x288 with 1 Axes>"
      ]
     },
     "metadata": {
      "needs_background": "light"
     },
     "output_type": "display_data"
    },
    {
     "name": "stdout",
     "output_type": "stream",
     "text": [
      "i : 0\n",
      "j : 9\n",
      "[[ 1.11098493e-04 -4.77540378e-05  4.03754183e-05 -8.10470912e-05\n",
      "   1.83837455e-05 -1.21599602e-04  4.29925184e-04  8.98321266e-05\n",
      "   5.71898466e-01  1.82927695e-04]]\n",
      "[-0.82022191]\n"
     ]
    },
    {
     "data": {
      "image/png": "[encoded data removed]",
      "text/plain": [
       "<Figure size 432x288 with 1 Axes>"
      ]
     },
     "metadata": {
      "needs_background": "light"
     },
     "output_type": "display_data"
    },
    {
     "name": "stdout",
     "output_type": "stream",
     "text": [
      "i : 1\n",
      "j : 0\n",
      "[[ 1.11098493e-04 -4.77540378e-05  4.03754183e-05 -8.10470912e-05\n",
      "   1.83837455e-05 -1.21599602e-04  4.29925184e-04  8.98321266e-05\n",
      "   5.71898466e-01  1.82927695e-04]]\n",
      "[-0.82022191]\n"
     ]
    },
    {
     "data": {
      "image/png": "[encoded data removed]",
      "text/plain": [
       "<Figure size 432x288 with 1 Axes>"
      ]
     },
     "metadata": {
      "needs_background": "light"
     },
     "output_type": "display_data"
    },
    {
     "name": "stdout",
     "output_type": "stream",
     "text": [
      "i : 1\n",
      "j : 1\n",
      "[[ 1.11098493e-04 -4.77540378e-05  4.03754183e-05 -8.10470912e-05\n",
      "   1.83837455e-05 -1.21599602e-04  4.29925184e-04  8.98321266e-05\n",
      "   5.71898466e-01  1.82927695e-04]]\n",
      "[-0.82022191]\n"
     ]
    },
    {
     "data": {
      "image/png": "[encoded data removed]",
      "text/plain": [
       "<Figure size 432x288 with 1 Axes>"
      ]
     },
     "metadata": {
      "needs_background": "light"
     },
     "output_type": "display_data"
    },
    {
     "name": "stdout",
     "output_type": "stream",
     "text": [
      "i : 1\n",
      "j : 2\n",
      "[[ 1.11098493e-04 -4.77540378e-05  4.03754183e-05 -8.10470912e-05\n",
      "   1.83837455e-05 -1.21599602e-04  4.29925184e-04  8.98321266e-05\n",
      "   5.71898466e-01  1.82927695e-04]]\n",
      "[-0.82022191]\n"
     ]
    },
    {
     "data": {
      "image/png": "[encoded data removed]",
      "text/plain": [
       "<Figure size 432x288 with 1 Axes>"
      ]
     },
     "metadata": {
      "needs_background": "light"
     },
     "output_type": "display_data"
    },
    {
     "name": "stdout",
     "output_type": "stream",
     "text": [
      "i : 1\n",
      "j : 3\n",
      "[[ 1.11098493e-04 -4.77540378e-05  4.03754183e-05 -8.10470912e-05\n",
      "   1.83837455e-05 -1.21599602e-04  4.29925184e-04  8.98321266e-05\n",
      "   5.71898466e-01  1.82927695e-04]]\n",
      "[-0.82022191]\n"
     ]
    },
    {
     "data": {
      "image/png": "[encoded data removed]",
      "text/plain": [
       "<Figure size 432x288 with 1 Axes>"
      ]
     },
     "metadata": {
      "needs_background": "light"
     },
     "output_type": "display_data"
    },
    {
     "name": "stdout",
     "output_type": "stream",
     "text": [
      "i : 1\n",
      "j : 4\n",
      "[[ 1.11098493e-04 -4.77540378e-05  4.03754183e-05 -8.10470912e-05\n",
      "   1.83837455e-05 -1.21599602e-04  4.29925184e-04  8.98321266e-05\n",
      "   5.71898466e-01  1.82927695e-04]]\n",
      "[-0.82022191]\n"
     ]
    },
    {
     "data": {
      "image/png": "[encoded data removed]",
      "text/plain": [
       "<Figure size 432x288 with 1 Axes>"
      ]
     },
     "metadata": {
      "needs_background": "light"
     },
     "output_type": "display_data"
    },
    {
     "name": "stdout",
     "output_type": "stream",
     "text": [
      "i : 1\n",
      "j : 5\n",
      "[[ 1.11098493e-04 -4.77540378e-05  4.03754183e-05 -8.10470912e-05\n",
      "   1.83837455e-05 -1.21599602e-04  4.29925184e-04  8.98321266e-05\n",
      "   5.71898466e-01  1.82927695e-04]]\n",
      "[-0.82022191]\n"
     ]
    },
    {
     "data": {
      "image/png": "[encoded data removed]",
      "text/plain": [
       "<Figure size 432x288 with 1 Axes>"
      ]
     },
     "metadata": {
      "needs_background": "light"
     },
     "output_type": "display_data"
    },
    {
     "name": "stdout",
     "output_type": "stream",
     "text": [
      "i : 1\n",
      "j : 6\n",
      "[[ 1.11098493e-04 -4.77540378e-05  4.03754183e-05 -8.10470912e-05\n",
      "   1.83837455e-05 -1.21599602e-04  4.29925184e-04  8.98321266e-05\n",
      "   5.71898466e-01  1.82927695e-04]]\n",
      "[-0.82022191]\n"
     ]
    },
    {
     "data": {
      "image/png": "[encoded data removed]",
      "text/plain": [
       "<Figure size 432x288 with 1 Axes>"
      ]
     },
     "metadata": {
      "needs_background": "light"
     },
     "output_type": "display_data"
    },
    {
     "name": "stdout",
     "output_type": "stream",
     "text": [
      "i : 1\n",
      "j : 7\n",
      "[[ 1.11098493e-04 -4.77540378e-05  4.03754183e-05 -8.10470912e-05\n",
      "   1.83837455e-05 -1.21599602e-04  4.29925184e-04  8.98321266e-05\n",
      "   5.71898466e-01  1.82927695e-04]]\n",
      "[-0.82022191]\n"
     ]
    },
    {
     "data": {
      "image/png": "[encoded data removed]",
      "text/plain": [
       "<Figure size 432x288 with 1 Axes>"
      ]
     },
     "metadata": {
      "needs_background": "light"
     },
     "output_type": "display_data"
    },
    {
     "name": "stdout",
     "output_type": "stream",
     "text": [
      "i : 1\n",
      "j : 8\n",
      "[[ 1.11098493e-04 -4.77540378e-05  4.03754183e-05 -8.10470912e-05\n",
      "   1.83837455e-05 -1.21599602e-04  4.29925184e-04  8.98321266e-05\n",
      "   5.71898466e-01  1.82927695e-04]]\n",
      "[-0.82022191]\n"
     ]
    },
    {
     "data": {
      "image/png": "[encoded data removed]",
      "text/plain": [
       "<Figure size 432x288 with 1 Axes>"
      ]
     },
     "metadata": {
      "needs_background": "light"
     },
     "output_type": "display_data"
    },
    {
     "name": "stdout",
     "output_type": "stream",
     "text": [
      "i : 1\n",
      "j : 9\n",
      "[[ 1.11098493e-04 -4.77540378e-05  4.03754183e-05 -8.10470912e-05\n",
      "   1.83837455e-05 -1.21599602e-04  4.29925184e-04  8.98321266e-05\n",
      "   5.71898466e-01  1.82927695e-04]]\n",
      "[-0.82022191]\n"
     ]
    },
    {
     "data": {
      "image/png": "[encoded data removed]",
      "text/plain": [
       "<Figure size 432x288 with 1 Axes>"
      ]
     },
     "metadata": {
      "needs_background": "light"
     },
     "output_type": "display_data"
    },
    {
     "name": "stdout",
     "output_type": "stream",
     "text": [
      "i : 2\n",
      "j : 0\n",
      "[[ 1.11098493e-04 -4.77540378e-05  4.03754183e-05 -8.10470912e-05\n",
      "   1.83837455e-05 -1.21599602e-04  4.29925184e-04  8.98321266e-05\n",
      "   5.71898466e-01  1.82927695e-04]]\n",
      "[-0.82022191]\n"
     ]
    },
    {
     "data": {
      "image/png": "[encoded data removed]",
      "text/plain": [
       "<Figure size 432x288 with 1 Axes>"
      ]
     },
     "metadata": {
      "needs_background": "light"
     },
     "output_type": "display_data"
    },
    {
     "name": "stdout",
     "output_type": "stream",
     "text": [
      "i : 2\n",
      "j : 1\n",
      "[[ 1.11098493e-04 -4.77540378e-05  4.03754183e-05 -8.10470912e-05\n",
      "   1.83837455e-05 -1.21599602e-04  4.29925184e-04  8.98321266e-05\n",
      "   5.71898466e-01  1.82927695e-04]]\n",
      "[-0.82022191]\n"
     ]
    },
    {
     "data": {
      "image/png": "[encoded data removed]",
      "text/plain": [
       "<Figure size 432x288 with 1 Axes>"
      ]
     },
     "metadata": {
      "needs_background": "light"
     },
     "output_type": "display_data"
    },
    {
     "name": "stdout",
     "output_type": "stream",
     "text": [
      "i : 2\n",
      "j : 2\n",
      "[[ 1.11098493e-04 -4.77540378e-05  4.03754183e-05 -8.10470912e-05\n",
      "   1.83837455e-05 -1.21599602e-04  4.29925184e-04  8.98321266e-05\n",
      "   5.71898466e-01  1.82927695e-04]]\n",
      "[-0.82022191]\n"
     ]
    },
    {
     "data": {
      "image/png": "[encoded data removed]",
      "text/plain": [
       "<Figure size 432x288 with 1 Axes>"
      ]
     },
     "metadata": {
      "needs_background": "light"
     },
     "output_type": "display_data"
    },
    {
     "name": "stdout",
     "output_type": "stream",
     "text": [
      "i : 2\n",
      "j : 3\n",
      "[[ 1.11098493e-04 -4.77540378e-05  4.03754183e-05 -8.10470912e-05\n",
      "   1.83837455e-05 -1.21599602e-04  4.29925184e-04  8.98321266e-05\n",
      "   5.71898466e-01  1.82927695e-04]]\n",
      "[-0.82022191]\n"
     ]
    },
    {
     "data": {
      "image/png": "[encoded data removed]",
      "text/plain": [
       "<Figure size 432x288 with 1 Axes>"
      ]
     },
     "metadata": {
      "needs_background": "light"
     },
     "output_type": "display_data"
    },
    {
     "name": "stdout",
     "output_type": "stream",
     "text": [
      "i : 2\n",
      "j : 4\n",
      "[[ 1.11098493e-04 -4.77540378e-05  4.03754183e-05 -8.10470912e-05\n",
      "   1.83837455e-05 -1.21599602e-04  4.29925184e-04  8.98321266e-05\n",
      "   5.71898466e-01  1.82927695e-04]]\n",
      "[-0.82022191]\n"
     ]
    },
    {
     "data": {
      "image/png": "[encoded data removed]",
      "text/plain": [
       "<Figure size 432x288 with 1 Axes>"
      ]
     },
     "metadata": {
      "needs_background": "light"
     },
     "output_type": "display_data"
    },
    {
     "name": "stdout",
     "output_type": "stream",
     "text": [
      "i : 2\n",
      "j : 5\n",
      "[[ 1.11098493e-04 -4.77540378e-05  4.03754183e-05 -8.10470912e-05\n",
      "   1.83837455e-05 -1.21599602e-04  4.29925184e-04  8.98321266e-05\n",
      "   5.71898466e-01  1.82927695e-04]]\n",
      "[-0.82022191]\n"
     ]
    },
    {
     "data": {
      "image/png": "[encoded data removed]",
      "text/plain": [
       "<Figure size 432x288 with 1 Axes>"
      ]
     },
     "metadata": {
      "needs_background": "light"
     },
     "output_type": "display_data"
    },
    {
     "name": "stdout",
     "output_type": "stream",
     "text": [
      "i : 2\n",
      "j : 6\n",
      "[[ 1.11098493e-04 -4.77540378e-05  4.03754183e-05 -8.10470912e-05\n",
      "   1.83837455e-05 -1.21599602e-04  4.29925184e-04  8.98321266e-05\n",
      "   5.71898466e-01  1.82927695e-04]]\n",
      "[-0.82022191]\n"
     ]
    },
    {
     "data": {
      "image/png": "[encoded data removed]",
      "text/plain": [
       "<Figure size 432x288 with 1 Axes>"
      ]
     },
     "metadata": {
      "needs_background": "light"
     },
     "output_type": "display_data"
    },
    {
     "name": "stdout",
     "output_type": "stream",
     "text": [
      "i : 2\n",
      "j : 7\n",
      "[[ 1.11098493e-04 -4.77540378e-05  4.03754183e-05 -8.10470912e-05\n",
      "   1.83837455e-05 -1.21599602e-04  4.29925184e-04  8.98321266e-05\n",
      "   5.71898466e-01  1.82927695e-04]]\n",
      "[-0.82022191]\n"
     ]
    },
    {
     "data": {
      "image/png": "[encoded data removed]",
      "text/plain": [
       "<Figure size 432x288 with 1 Axes>"
      ]
     },
     "metadata": {
      "needs_background": "light"
     },
     "output_type": "display_data"
    },
    {
     "name": "stdout",
     "output_type": "stream",
     "text": [
      "i : 2\n",
      "j : 8\n",
      "[[ 1.11098493e-04 -4.77540378e-05  4.03754183e-05 -8.10470912e-05\n",
      "   1.83837455e-05 -1.21599602e-04  4.29925184e-04  8.98321266e-05\n",
      "   5.71898466e-01  1.82927695e-04]]\n",
      "[-0.82022191]\n"
     ]
    },
    {
     "data": {
      "image/png": "[encoded data removed]",
      "text/plain": [
       "<Figure size 432x288 with 1 Axes>"
      ]
     },
     "metadata": {
      "needs_background": "light"
     },
     "output_type": "display_data"
    },
    {
     "name": "stdout",
     "output_type": "stream",
     "text": [
      "i : 2\n",
      "j : 9\n",
      "[[ 1.11098493e-04 -4.77540378e-05  4.03754183e-05 -8.10470912e-05\n",
      "   1.83837455e-05 -1.21599602e-04  4.29925184e-04  8.98321266e-05\n",
      "   5.71898466e-01  1.82927695e-04]]\n",
      "[-0.82022191]\n"
     ]
    },
    {
     "data": {
      "image/png": "[encoded data removed]",
      "text/plain": [
       "<Figure size 432x288 with 1 Axes>"
      ]
     },
     "metadata": {
      "needs_background": "light"
     },
     "output_type": "display_data"
    },
    {
     "name": "stdout",
     "output_type": "stream",
     "text": [
      "i : 3\n",
      "j : 0\n",
      "[[ 1.11098493e-04 -4.77540378e-05  4.03754183e-05 -8.10470912e-05\n",
      "   1.83837455e-05 -1.21599602e-04  4.29925184e-04  8.98321266e-05\n",
      "   5.71898466e-01  1.82927695e-04]]\n",
      "[-0.82022191]\n"
     ]
    },
    {
     "data": {
      "image/png": "[encoded data removed]",
      "text/plain": [
       "<Figure size 432x288 with 1 Axes>"
      ]
     },
     "metadata": {
      "needs_background": "light"
     },
     "output_type": "display_data"
    },
    {
     "name": "stdout",
     "output_type": "stream",
     "text": [
      "i : 3\n",
      "j : 1\n",
      "[[ 1.11098493e-04 -4.77540378e-05  4.03754183e-05 -8.10470912e-05\n",
      "   1.83837455e-05 -1.21599602e-04  4.29925184e-04  8.98321266e-05\n",
      "   5.71898466e-01  1.82927695e-04]]\n",
      "[-0.82022191]\n"
     ]
    },
    {
     "data": {
      "image/png": "[encoded data removed]",
      "text/plain": [
       "<Figure size 432x288 with 1 Axes>"
      ]
     },
     "metadata": {
      "needs_background": "light"
     },
     "output_type": "display_data"
    },
    {
     "name": "stdout",
     "output_type": "stream",
     "text": [
      "i : 3\n",
      "j : 2\n",
      "[[ 1.11098493e-04 -4.77540378e-05  4.03754183e-05 -8.10470912e-05\n",
      "   1.83837455e-05 -1.21599602e-04  4.29925184e-04  8.98321266e-05\n",
      "   5.71898466e-01  1.82927695e-04]]\n",
      "[-0.82022191]\n"
     ]
    },
    {
     "data": {
      "image/png": "[encoded data removed]",
      "text/plain": [
       "<Figure size 432x288 with 1 Axes>"
      ]
     },
     "metadata": {
      "needs_background": "light"
     },
     "output_type": "display_data"
    },
    {
     "name": "stdout",
     "output_type": "stream",
     "text": [
      "i : 3\n",
      "j : 3\n",
      "[[ 1.11098493e-04 -4.77540378e-05  4.03754183e-05 -8.10470912e-05\n",
      "   1.83837455e-05 -1.21599602e-04  4.29925184e-04  8.98321266e-05\n",
      "   5.71898466e-01  1.82927695e-04]]\n",
      "[-0.82022191]\n"
     ]
    },
    {
     "data": {
      "image/png": "[encoded data removed]",
      "text/plain": [
       "<Figure size 432x288 with 1 Axes>"
      ]
     },
     "metadata": {
      "needs_background": "light"
     },
     "output_type": "display_data"
    },
    {
     "name": "stdout",
     "output_type": "stream",
     "text": [
      "i : 3\n",
      "j : 4\n",
      "[[ 1.11098493e-04 -4.77540378e-05  4.03754183e-05 -8.10470912e-05\n",
      "   1.83837455e-05 -1.21599602e-04  4.29925184e-04  8.98321266e-05\n",
      "   5.71898466e-01  1.82927695e-04]]\n",
      "[-0.82022191]\n"
     ]
    },
    {
     "data": {
      "image/png": "[encoded data removed]",
      "text/plain": [
       "<Figure size 432x288 with 1 Axes>"
      ]
     },
     "metadata": {
      "needs_background": "light"
     },
     "output_type": "display_data"
    },
    {
     "name": "stdout",
     "output_type": "stream",
     "text": [
      "i : 3\n",
      "j : 5\n",
      "[[ 1.11098493e-04 -4.77540378e-05  4.03754183e-05 -8.10470912e-05\n",
      "   1.83837455e-05 -1.21599602e-04  4.29925184e-04  8.98321266e-05\n",
      "   5.71898466e-01  1.82927695e-04]]\n",
      "[-0.82022191]\n"
     ]
    },
    {
     "data": {
      "image/png": "[encoded data removed]",
      "text/plain": [
       "<Figure size 432x288 with 1 Axes>"
      ]
     },
     "metadata": {
      "needs_background": "light"
     },
     "output_type": "display_data"
    },
    {
     "name": "stdout",
     "output_type": "stream",
     "text": [
      "i : 3\n",
      "j : 6\n",
      "[[ 1.11098493e-04 -4.77540378e-05  4.03754183e-05 -8.10470912e-05\n",
      "   1.83837455e-05 -1.21599602e-04  4.29925184e-04  8.98321266e-05\n",
      "   5.71898466e-01  1.82927695e-04]]\n",
      "[-0.82022191]\n"
     ]
    },
    {
     "data": {
      "image/png": "[encoded data removed]",
      "text/plain": [
       "<Figure size 432x288 with 1 Axes>"
      ]
     },
     "metadata": {
      "needs_background": "light"
     },
     "output_type": "display_data"
    },
    {
     "name": "stdout",
     "output_type": "stream",
     "text": [
      "i : 3\n",
      "j : 7\n",
      "[[ 1.11098493e-04 -4.77540378e-05  4.03754183e-05 -8.10470912e-05\n",
      "   1.83837455e-05 -1.21599602e-04  4.29925184e-04  8.98321266e-05\n",
      "   5.71898466e-01  1.82927695e-04]]\n",
      "[-0.82022191]\n"
     ]
    },
    {
     "data": {
      "image/png": "[encoded data removed]",
      "text/plain": [
       "<Figure size 432x288 with 1 Axes>"
      ]
     },
     "metadata": {
      "needs_background": "light"
     },
     "output_type": "display_data"
    },
    {
     "name": "stdout",
     "output_type": "stream",
     "text": [
      "i : 3\n",
      "j : 8\n",
      "[[ 1.11098493e-04 -4.77540378e-05  4.03754183e-05 -8.10470912e-05\n",
      "   1.83837455e-05 -1.21599602e-04  4.29925184e-04  8.98321266e-05\n",
      "   5.71898466e-01  1.82927695e-04]]\n",
      "[-0.82022191]\n"
     ]
    },
    {
     "data": {
      "image/png": "[encoded data removed]",
      "text/plain": [
       "<Figure size 432x288 with 1 Axes>"
      ]
     },
     "metadata": {
      "needs_background": "light"
     },
     "output_type": "display_data"
    },
    {
     "name": "stdout",
     "output_type": "stream",
     "text": [
      "i : 3\n",
      "j : 9\n",
      "[[ 1.11098493e-04 -4.77540378e-05  4.03754183e-05 -8.10470912e-05\n",
      "   1.83837455e-05 -1.21599602e-04  4.29925184e-04  8.98321266e-05\n",
      "   5.71898466e-01  1.82927695e-04]]\n",
      "[-0.82022191]\n"
     ]
    },
    {
     "data": {
      "image/png": "[encoded data removed]",
      "text/plain": [
       "<Figure size 432x288 with 1 Axes>"
      ]
     },
     "metadata": {
      "needs_background": "light"
     },
     "output_type": "display_data"
    },
    {
     "name": "stdout",
     "output_type": "stream",
     "text": [
      "i : 4\n",
      "j : 0\n",
      "[[ 1.11098493e-04 -4.77540378e-05  4.03754183e-05 -8.10470912e-05\n",
      "   1.83837455e-05 -1.21599602e-04  4.29925184e-04  8.98321266e-05\n",
      "   5.71898466e-01  1.82927695e-04]]\n",
      "[-0.82022191]\n"
     ]
    },
    {
     "data": {
      "image/png": "[encoded data removed]",
      "text/plain": [
       "<Figure size 432x288 with 1 Axes>"
      ]
     },
     "metadata": {
      "needs_background": "light"
     },
     "output_type": "display_data"
    },
    {
     "name": "stdout",
     "output_type": "stream",
     "text": [
      "i : 4\n",
      "j : 1\n",
      "[[ 1.11098493e-04 -4.77540378e-05  4.03754183e-05 -8.10470912e-05\n",
      "   1.83837455e-05 -1.21599602e-04  4.29925184e-04  8.98321266e-05\n",
      "   5.71898466e-01  1.82927695e-04]]\n",
      "[-0.82022191]\n"
     ]
    },
    {
     "data": {
      "image/png": "[encoded data removed]",
      "text/plain": [
       "<Figure size 432x288 with 1 Axes>"
      ]
     },
     "metadata": {
      "needs_background": "light"
     },
     "output_type": "display_data"
    },
    {
     "name": "stdout",
     "output_type": "stream",
     "text": [
      "i : 4\n",
      "j : 2\n",
      "[[ 1.11098493e-04 -4.77540378e-05  4.03754183e-05 -8.10470912e-05\n",
      "   1.83837455e-05 -1.21599602e-04  4.29925184e-04  8.98321266e-05\n",
      "   5.71898466e-01  1.82927695e-04]]\n",
      "[-0.82022191]\n"
     ]
    },
    {
     "data": {
      "image/png": "[encoded data removed]",
      "text/plain": [
       "<Figure size 432x288 with 1 Axes>"
      ]
     },
     "metadata": {
      "needs_background": "light"
     },
     "output_type": "display_data"
    },
    {
     "name": "stdout",
     "output_type": "stream",
     "text": [
      "i : 4\n",
      "j : 3\n",
      "[[ 1.11098493e-04 -4.77540378e-05  4.03754183e-05 -8.10470912e-05\n",
      "   1.83837455e-05 -1.21599602e-04  4.29925184e-04  8.98321266e-05\n",
      "   5.71898466e-01  1.82927695e-04]]\n",
      "[-0.82022191]\n"
     ]
    },
    {
     "data": {
      "image/png": "[encoded data removed]",
      "text/plain": [
       "<Figure size 432x288 with 1 Axes>"
      ]
     },
     "metadata": {
      "needs_background": "light"
     },
     "output_type": "display_data"
    },
    {
     "name": "stdout",
     "output_type": "stream",
     "text": [
      "i : 4\n",
      "j : 4\n",
      "[[ 1.11098493e-04 -4.77540378e-05  4.03754183e-05 -8.10470912e-05\n",
      "   1.83837455e-05 -1.21599602e-04  4.29925184e-04  8.98321266e-05\n",
      "   5.71898466e-01  1.82927695e-04]]\n",
      "[-0.82022191]\n"
     ]
    },
    {
     "data": {
      "image/png": "[encoded data removed]",
      "text/plain": [
       "<Figure size 432x288 with 1 Axes>"
      ]
     },
     "metadata": {
      "needs_background": "light"
     },
     "output_type": "display_data"
    },
    {
     "name": "stdout",
     "output_type": "stream",
     "text": [
      "i : 4\n",
      "j : 5\n",
      "[[ 1.11098493e-04 -4.77540378e-05  4.03754183e-05 -8.10470912e-05\n",
      "   1.83837455e-05 -1.21599602e-04  4.29925184e-04  8.98321266e-05\n",
      "   5.71898466e-01  1.82927695e-04]]\n",
      "[-0.82022191]\n"
     ]
    },
    {
     "data": {
      "image/png": "[encoded data removed]",
      "text/plain": [
       "<Figure size 432x288 with 1 Axes>"
      ]
     },
     "metadata": {
      "needs_background": "light"
     },
     "output_type": "display_data"
    },
    {
     "name": "stdout",
     "output_type": "stream",
     "text": [
      "i : 4\n",
      "j : 6\n",
      "[[ 1.11098493e-04 -4.77540378e-05  4.03754183e-05 -8.10470912e-05\n",
      "   1.83837455e-05 -1.21599602e-04  4.29925184e-04  8.98321266e-05\n",
      "   5.71898466e-01  1.82927695e-04]]\n",
      "[-0.82022191]\n"
     ]
    },
    {
     "data": {
      "image/png": "[encoded data removed]",
      "text/plain": [
       "<Figure size 432x288 with 1 Axes>"
      ]
     },
     "metadata": {
      "needs_background": "light"
     },
     "output_type": "display_data"
    },
    {
     "name": "stdout",
     "output_type": "stream",
     "text": [
      "i : 4\n",
      "j : 7\n",
      "[[ 1.11098493e-04 -4.77540378e-05  4.03754183e-05 -8.10470912e-05\n",
      "   1.83837455e-05 -1.21599602e-04  4.29925184e-04  8.98321266e-05\n",
      "   5.71898466e-01  1.82927695e-04]]\n",
      "[-0.82022191]\n"
     ]
    },
    {
     "data": {
      "image/png": "[encoded data removed]",
      "text/plain": [
       "<Figure size 432x288 with 1 Axes>"
      ]
     },
     "metadata": {
      "needs_background": "light"
     },
     "output_type": "display_data"
    },
    {
     "name": "stdout",
     "output_type": "stream",
     "text": [
      "i : 4\n",
      "j : 8\n",
      "[[ 1.11098493e-04 -4.77540378e-05  4.03754183e-05 -8.10470912e-05\n",
      "   1.83837455e-05 -1.21599602e-04  4.29925184e-04  8.98321266e-05\n",
      "   5.71898466e-01  1.82927695e-04]]\n",
      "[-0.82022191]\n"
     ]
    },
    {
     "data": {
      "image/png": "[encoded data removed]",
      "text/plain": [
       "<Figure size 432x288 with 1 Axes>"
      ]
     },
     "metadata": {
      "needs_background": "light"
     },
     "output_type": "display_data"
    },
    {
     "name": "stdout",
     "output_type": "stream",
     "text": [
      "i : 4\n",
      "j : 9\n",
      "[[ 1.11098493e-04 -4.77540378e-05  4.03754183e-05 -8.10470912e-05\n",
      "   1.83837455e-05 -1.21599602e-04  4.29925184e-04  8.98321266e-05\n",
      "   5.71898466e-01  1.82927695e-04]]\n",
      "[-0.82022191]\n"
     ]
    },
    {
     "data": {
      "image/png": "[encoded data removed]",
      "text/plain": [
       "<Figure size 432x288 with 1 Axes>"
      ]
     },
     "metadata": {
      "needs_background": "light"
     },
     "output_type": "display_data"
    },
    {
     "name": "stdout",
     "output_type": "stream",
     "text": [
      "i : 5\n",
      "j : 0\n",
      "[[ 1.11098493e-04 -4.77540378e-05  4.03754183e-05 -8.10470912e-05\n",
      "   1.83837455e-05 -1.21599602e-04  4.29925184e-04  8.98321266e-05\n",
      "   5.71898466e-01  1.82927695e-04]]\n",
      "[-0.82022191]\n"
     ]
    },
    {
     "data": {
      "image/png": "[encoded data removed]",
      "text/plain": [
       "<Figure size 432x288 with 1 Axes>"
      ]
     },
     "metadata": {
      "needs_background": "light"
     },
     "output_type": "display_data"
    },
    {
     "name": "stdout",
     "output_type": "stream",
     "text": [
      "i : 5\n",
      "j : 1\n",
      "[[ 1.11098493e-04 -4.77540378e-05  4.03754183e-05 -8.10470912e-05\n",
      "   1.83837455e-05 -1.21599602e-04  4.29925184e-04  8.98321266e-05\n",
      "   5.71898466e-01  1.82927695e-04]]\n",
      "[-0.82022191]\n"
     ]
    },
    {
     "data": {
      "image/png": "[encoded data removed]",
      "text/plain": [
       "<Figure size 432x288 with 1 Axes>"
      ]
     },
     "metadata": {
      "needs_background": "light"
     },
     "output_type": "display_data"
    },
    {
     "name": "stdout",
     "output_type": "stream",
     "text": [
      "i : 5\n",
      "j : 2\n",
      "[[ 1.11098493e-04 -4.77540378e-05  4.03754183e-05 -8.10470912e-05\n",
      "   1.83837455e-05 -1.21599602e-04  4.29925184e-04  8.98321266e-05\n",
      "   5.71898466e-01  1.82927695e-04]]\n",
      "[-0.82022191]\n"
     ]
    },
    {
     "data": {
      "image/png": "[encoded data removed]",
      "text/plain": [
       "<Figure size 432x288 with 1 Axes>"
      ]
     },
     "metadata": {
      "needs_background": "light"
     },
     "output_type": "display_data"
    },
    {
     "name": "stdout",
     "output_type": "stream",
     "text": [
      "i : 5\n",
      "j : 3\n",
      "[[ 1.11098493e-04 -4.77540378e-05  4.03754183e-05 -8.10470912e-05\n",
      "   1.83837455e-05 -1.21599602e-04  4.29925184e-04  8.98321266e-05\n",
      "   5.71898466e-01  1.82927695e-04]]\n",
      "[-0.82022191]\n"
     ]
    },
    {
     "data": {
      "image/png": "[encoded data removed]",
      "text/plain": [
       "<Figure size 432x288 with 1 Axes>"
      ]
     },
     "metadata": {
      "needs_background": "light"
     },
     "output_type": "display_data"
    },
    {
     "name": "stdout",
     "output_type": "stream",
     "text": [
      "i : 5\n",
      "j : 4\n",
      "[[ 1.11098493e-04 -4.77540378e-05  4.03754183e-05 -8.10470912e-05\n",
      "   1.83837455e-05 -1.21599602e-04  4.29925184e-04  8.98321266e-05\n",
      "   5.71898466e-01  1.82927695e-04]]\n",
      "[-0.82022191]\n"
     ]
    },
    {
     "data": {
      "image/png": "[encoded data removed]",
      "text/plain": [
       "<Figure size 432x288 with 1 Axes>"
      ]
     },
     "metadata": {
      "needs_background": "light"
     },
     "output_type": "display_data"
    },
    {
     "name": "stdout",
     "output_type": "stream",
     "text": [
      "i : 5\n",
      "j : 5\n",
      "[[ 1.11098493e-04 -4.77540378e-05  4.03754183e-05 -8.10470912e-05\n",
      "   1.83837455e-05 -1.21599602e-04  4.29925184e-04  8.98321266e-05\n",
      "   5.71898466e-01  1.82927695e-04]]\n",
      "[-0.82022191]\n"
     ]
    },
    {
     "data": {
      "image/png": "[encoded data removed]",
      "text/plain": [
       "<Figure size 432x288 with 1 Axes>"
      ]
     },
     "metadata": {
      "needs_background": "light"
     },
     "output_type": "display_data"
    },
    {
     "name": "stdout",
     "output_type": "stream",
     "text": [
      "i : 5\n",
      "j : 6\n",
      "[[ 1.11098493e-04 -4.77540378e-05  4.03754183e-05 -8.10470912e-05\n",
      "   1.83837455e-05 -1.21599602e-04  4.29925184e-04  8.98321266e-05\n",
      "   5.71898466e-01  1.82927695e-04]]\n",
      "[-0.82022191]\n"
     ]
    },
    {
     "data": {
      "image/png": "[encoded data removed]",
      "text/plain": [
       "<Figure size 432x288 with 1 Axes>"
      ]
     },
     "metadata": {
      "needs_background": "light"
     },
     "output_type": "display_data"
    },
    {
     "name": "stdout",
     "output_type": "stream",
     "text": [
      "i : 5\n",
      "j : 7\n",
      "[[ 1.11098493e-04 -4.77540378e-05  4.03754183e-05 -8.10470912e-05\n",
      "   1.83837455e-05 -1.21599602e-04  4.29925184e-04  8.98321266e-05\n",
      "   5.71898466e-01  1.82927695e-04]]\n",
      "[-0.82022191]\n"
     ]
    },
    {
     "data": {
      "image/png": "[encoded data removed]",
      "text/plain": [
       "<Figure size 432x288 with 1 Axes>"
      ]
     },
     "metadata": {
      "needs_background": "light"
     },
     "output_type": "display_data"
    },
    {
     "name": "stdout",
     "output_type": "stream",
     "text": [
      "i : 5\n",
      "j : 8\n",
      "[[ 1.11098493e-04 -4.77540378e-05  4.03754183e-05 -8.10470912e-05\n",
      "   1.83837455e-05 -1.21599602e-04  4.29925184e-04  8.98321266e-05\n",
      "   5.71898466e-01  1.82927695e-04]]\n",
      "[-0.82022191]\n"
     ]
    },
    {
     "data": {
      "image/png": "[encoded data removed]",
      "text/plain": [
       "<Figure size 432x288 with 1 Axes>"
      ]
     },
     "metadata": {
      "needs_background": "light"
     },
     "output_type": "display_data"
    },
    {
     "name": "stdout",
     "output_type": "stream",
     "text": [
      "i : 5\n",
      "j : 9\n",
      "[[ 1.11098493e-04 -4.77540378e-05  4.03754183e-05 -8.10470912e-05\n",
      "   1.83837455e-05 -1.21599602e-04  4.29925184e-04  8.98321266e-05\n",
      "   5.71898466e-01  1.82927695e-04]]\n",
      "[-0.82022191]\n"
     ]
    },
    {
     "data": {
      "image/png": "[encoded data removed]",
      "text/plain": [
       "<Figure size 432x288 with 1 Axes>"
      ]
     },
     "metadata": {
      "needs_background": "light"
     },
     "output_type": "display_data"
    },
    {
     "name": "stdout",
     "output_type": "stream",
     "text": [
      "i : 6\n",
      "j : 0\n",
      "[[ 1.11098493e-04 -4.77540378e-05  4.03754183e-05 -8.10470912e-05\n",
      "   1.83837455e-05 -1.21599602e-04  4.29925184e-04  8.98321266e-05\n",
      "   5.71898466e-01  1.82927695e-04]]\n",
      "[-0.82022191]\n"
     ]
    },
    {
     "data": {
      "image/png": "[encoded data removed]",
      "text/plain": [
       "<Figure size 432x288 with 1 Axes>"
      ]
     },
     "metadata": {
      "needs_background": "light"
     },
     "output_type": "display_data"
    },
    {
     "name": "stdout",
     "output_type": "stream",
     "text": [
      "i : 6\n",
      "j : 1\n",
      "[[ 1.11098493e-04 -4.77540378e-05  4.03754183e-05 -8.10470912e-05\n",
      "   1.83837455e-05 -1.21599602e-04  4.29925184e-04  8.98321266e-05\n",
      "   5.71898466e-01  1.82927695e-04]]\n",
      "[-0.82022191]\n"
     ]
    },
    {
     "data": {
      "image/png": "[encoded data removed]",
      "text/plain": [
       "<Figure size 432x288 with 1 Axes>"
      ]
     },
     "metadata": {
      "needs_background": "light"
     },
     "output_type": "display_data"
    },
    {
     "name": "stdout",
     "output_type": "stream",
     "text": [
      "i : 6\n",
      "j : 2\n",
      "[[ 1.11098493e-04 -4.77540378e-05  4.03754183e-05 -8.10470912e-05\n",
      "   1.83837455e-05 -1.21599602e-04  4.29925184e-04  8.98321266e-05\n",
      "   5.71898466e-01  1.82927695e-04]]\n",
      "[-0.82022191]\n"
     ]
    },
    {
     "data": {
      "image/png": "[encoded data removed]",
      "text/plain": [
       "<Figure size 432x288 with 1 Axes>"
      ]
     },
     "metadata": {
      "needs_background": "light"
     },
     "output_type": "display_data"
    },
    {
     "name": "stdout",
     "output_type": "stream",
     "text": [
      "i : 6\n",
      "j : 3\n",
      "[[ 1.11098493e-04 -4.77540378e-05  4.03754183e-05 -8.10470912e-05\n",
      "   1.83837455e-05 -1.21599602e-04  4.29925184e-04  8.98321266e-05\n",
      "   5.71898466e-01  1.82927695e-04]]\n",
      "[-0.82022191]\n"
     ]
    },
    {
     "data": {
      "image/png": "[encoded data removed]",
      "text/plain": [
       "<Figure size 432x288 with 1 Axes>"
      ]
     },
     "metadata": {
      "needs_background": "light"
     },
     "output_type": "display_data"
    },
    {
     "name": "stdout",
     "output_type": "stream",
     "text": [
      "i : 6\n",
      "j : 4\n",
      "[[ 1.11098493e-04 -4.77540378e-05  4.03754183e-05 -8.10470912e-05\n",
      "   1.83837455e-05 -1.21599602e-04  4.29925184e-04  8.98321266e-05\n",
      "   5.71898466e-01  1.82927695e-04]]\n",
      "[-0.82022191]\n"
     ]
    },
    {
     "data": {
      "image/png": "[encoded data removed]",
      "text/plain": [
       "<Figure size 432x288 with 1 Axes>"
      ]
     },
     "metadata": {
      "needs_background": "light"
     },
     "output_type": "display_data"
    },
    {
     "name": "stdout",
     "output_type": "stream",
     "text": [
      "i : 6\n",
      "j : 5\n",
      "[[ 1.11098493e-04 -4.77540378e-05  4.03754183e-05 -8.10470912e-05\n",
      "   1.83837455e-05 -1.21599602e-04  4.29925184e-04  8.98321266e-05\n",
      "   5.71898466e-01  1.82927695e-04]]\n",
      "[-0.82022191]\n"
     ]
    },
    {
     "data": {
      "image/png": "[encoded data removed]",
      "text/plain": [
       "<Figure size 432x288 with 1 Axes>"
      ]
     },
     "metadata": {
      "needs_background": "light"
     },
     "output_type": "display_data"
    },
    {
     "name": "stdout",
     "output_type": "stream",
     "text": [
      "i : 6\n",
      "j : 6\n",
      "[[ 1.11098493e-04 -4.77540378e-05  4.03754183e-05 -8.10470912e-05\n",
      "   1.83837455e-05 -1.21599602e-04  4.29925184e-04  8.98321266e-05\n",
      "   5.71898466e-01  1.82927695e-04]]\n",
      "[-0.82022191]\n"
     ]
    },
    {
     "data": {
      "image/png": "[encoded data removed]",
      "text/plain": [
       "<Figure size 432x288 with 1 Axes>"
      ]
     },
     "metadata": {
      "needs_background": "light"
     },
     "output_type": "display_data"
    },
    {
     "name": "stdout",
     "output_type": "stream",
     "text": [
      "i : 6\n",
      "j : 7\n",
      "[[ 1.11098493e-04 -4.77540378e-05  4.03754183e-05 -8.10470912e-05\n",
      "   1.83837455e-05 -1.21599602e-04  4.29925184e-04  8.98321266e-05\n",
      "   5.71898466e-01  1.82927695e-04]]\n",
      "[-0.82022191]\n"
     ]
    },
    {
     "data": {
      "image/png": "[encoded data removed]",
      "text/plain": [
       "<Figure size 432x288 with 1 Axes>"
      ]
     },
     "metadata": {
      "needs_background": "light"
     },
     "output_type": "display_data"
    },
    {
     "name": "stdout",
     "output_type": "stream",
     "text": [
      "i : 6\n",
      "j : 8\n",
      "[[ 1.11098493e-04 -4.77540378e-05  4.03754183e-05 -8.10470912e-05\n",
      "   1.83837455e-05 -1.21599602e-04  4.29925184e-04  8.98321266e-05\n",
      "   5.71898466e-01  1.82927695e-04]]\n",
      "[-0.82022191]\n"
     ]
    },
    {
     "data": {
      "image/png": "[encoded data removed]",
      "text/plain": [
       "<Figure size 432x288 with 1 Axes>"
      ]
     },
     "metadata": {
      "needs_background": "light"
     },
     "output_type": "display_data"
    },
    {
     "name": "stdout",
     "output_type": "stream",
     "text": [
      "i : 6\n",
      "j : 9\n",
      "[[ 1.11098493e-04 -4.77540378e-05  4.03754183e-05 -8.10470912e-05\n",
      "   1.83837455e-05 -1.21599602e-04  4.29925184e-04  8.98321266e-05\n",
      "   5.71898466e-01  1.82927695e-04]]\n",
      "[-0.82022191]\n"
     ]
    },
    {
     "data": {
      "image/png": "[encoded data removed]",
      "text/plain": [
       "<Figure size 432x288 with 1 Axes>"
      ]
     },
     "metadata": {
      "needs_background": "light"
     },
     "output_type": "display_data"
    },
    {
     "name": "stdout",
     "output_type": "stream",
     "text": [
      "i : 7\n",
      "j : 0\n",
      "[[ 1.11098493e-04 -4.77540378e-05  4.03754183e-05 -8.10470912e-05\n",
      "   1.83837455e-05 -1.21599602e-04  4.29925184e-04  8.98321266e-05\n",
      "   5.71898466e-01  1.82927695e-04]]\n",
      "[-0.82022191]\n"
     ]
    },
    {
     "data": {
      "image/png": "[encoded data removed]",
      "text/plain": [
       "<Figure size 432x288 with 1 Axes>"
      ]
     },
     "metadata": {
      "needs_background": "light"
     },
     "output_type": "display_data"
    },
    {
     "name": "stdout",
     "output_type": "stream",
     "text": [
      "i : 7\n",
      "j : 1\n",
      "[[ 1.11098493e-04 -4.77540378e-05  4.03754183e-05 -8.10470912e-05\n",
      "   1.83837455e-05 -1.21599602e-04  4.29925184e-04  8.98321266e-05\n",
      "   5.71898466e-01  1.82927695e-04]]\n",
      "[-0.82022191]\n"
     ]
    },
    {
     "data": {
      "image/png": "[encoded data removed]",
      "text/plain": [
       "<Figure size 432x288 with 1 Axes>"
      ]
     },
     "metadata": {
      "needs_background": "light"
     },
     "output_type": "display_data"
    },
    {
     "name": "stdout",
     "output_type": "stream",
     "text": [
      "i : 7\n",
      "j : 2\n",
      "[[ 1.11098493e-04 -4.77540378e-05  4.03754183e-05 -8.10470912e-05\n",
      "   1.83837455e-05 -1.21599602e-04  4.29925184e-04  8.98321266e-05\n",
      "   5.71898466e-01  1.82927695e-04]]\n",
      "[-0.82022191]\n"
     ]
    },
    {
     "data": {
      "image/png": "[encoded data removed]",
      "text/plain": [
       "<Figure size 432x288 with 1 Axes>"
      ]
     },
     "metadata": {
      "needs_background": "light"
     },
     "output_type": "display_data"
    },
    {
     "name": "stdout",
     "output_type": "stream",
     "text": [
      "i : 7\n",
      "j : 3\n",
      "[[ 1.11098493e-04 -4.77540378e-05  4.03754183e-05 -8.10470912e-05\n",
      "   1.83837455e-05 -1.21599602e-04  4.29925184e-04  8.98321266e-05\n",
      "   5.71898466e-01  1.82927695e-04]]\n",
      "[-0.82022191]\n"
     ]
    },
    {
     "data": {
      "image/png": "[encoded data removed]",
      "text/plain": [
       "<Figure size 432x288 with 1 Axes>"
      ]
     },
     "metadata": {
      "needs_background": "light"
     },
     "output_type": "display_data"
    },
    {
     "name": "stdout",
     "output_type": "stream",
     "text": [
      "i : 7\n",
      "j : 4\n",
      "[[ 1.11098493e-04 -4.77540378e-05  4.03754183e-05 -8.10470912e-05\n",
      "   1.83837455e-05 -1.21599602e-04  4.29925184e-04  8.98321266e-05\n",
      "   5.71898466e-01  1.82927695e-04]]\n",
      "[-0.82022191]\n"
     ]
    },
    {
     "data": {
      "image/png": "[encoded data removed]",
      "text/plain": [
       "<Figure size 432x288 with 1 Axes>"
      ]
     },
     "metadata": {
      "needs_background": "light"
     },
     "output_type": "display_data"
    },
    {
     "name": "stdout",
     "output_type": "stream",
     "text": [
      "i : 7\n",
      "j : 5\n",
      "[[ 1.11098493e-04 -4.77540378e-05  4.03754183e-05 -8.10470912e-05\n",
      "   1.83837455e-05 -1.21599602e-04  4.29925184e-04  8.98321266e-05\n",
      "   5.71898466e-01  1.82927695e-04]]\n",
      "[-0.82022191]\n"
     ]
    },
    {
     "data": {
      "image/png": "[encoded data removed]",
      "text/plain": [
       "<Figure size 432x288 with 1 Axes>"
      ]
     },
     "metadata": {
      "needs_background": "light"
     },
     "output_type": "display_data"
    },
    {
     "name": "stdout",
     "output_type": "stream",
     "text": [
      "i : 7\n",
      "j : 6\n",
      "[[ 1.11098493e-04 -4.77540378e-05  4.03754183e-05 -8.10470912e-05\n",
      "   1.83837455e-05 -1.21599602e-04  4.29925184e-04  8.98321266e-05\n",
      "   5.71898466e-01  1.82927695e-04]]\n",
      "[-0.82022191]\n"
     ]
    },
    {
     "data": {
      "image/png": "[encoded data removed]",
      "text/plain": [
       "<Figure size 432x288 with 1 Axes>"
      ]
     },
     "metadata": {
      "needs_background": "light"
     },
     "output_type": "display_data"
    },
    {
     "name": "stdout",
     "output_type": "stream",
     "text": [
      "i : 7\n",
      "j : 7\n",
      "[[ 1.11098493e-04 -4.77540378e-05  4.03754183e-05 -8.10470912e-05\n",
      "   1.83837455e-05 -1.21599602e-04  4.29925184e-04  8.98321266e-05\n",
      "   5.71898466e-01  1.82927695e-04]]\n",
      "[-0.82022191]\n"
     ]
    },
    {
     "data": {
      "image/png": "[encoded data removed]",
      "text/plain": [
       "<Figure size 432x288 with 1 Axes>"
      ]
     },
     "metadata": {
      "needs_background": "light"
     },
     "output_type": "display_data"
    },
    {
     "name": "stdout",
     "output_type": "stream",
     "text": [
      "i : 7\n",
      "j : 8\n",
      "[[ 1.11098493e-04 -4.77540378e-05  4.03754183e-05 -8.10470912e-05\n",
      "   1.83837455e-05 -1.21599602e-04  4.29925184e-04  8.98321266e-05\n",
      "   5.71898466e-01  1.82927695e-04]]\n",
      "[-0.82022191]\n"
     ]
    },
    {
     "data": {
      "image/png": "[encoded data removed]",
      "text/plain": [
       "<Figure size 432x288 with 1 Axes>"
      ]
     },
     "metadata": {
      "needs_background": "light"
     },
     "output_type": "display_data"
    },
    {
     "name": "stdout",
     "output_type": "stream",
     "text": [
      "i : 7\n",
      "j : 9\n",
      "[[ 1.11098493e-04 -4.77540378e-05  4.03754183e-05 -8.10470912e-05\n",
      "   1.83837455e-05 -1.21599602e-04  4.29925184e-04  8.98321266e-05\n",
      "   5.71898466e-01  1.82927695e-04]]\n",
      "[-0.82022191]\n"
     ]
    },
    {
     "data": {
      "image/png": "[encoded data removed]",
      "text/plain": [
       "<Figure size 432x288 with 1 Axes>"
      ]
     },
     "metadata": {
      "needs_background": "light"
     },
     "output_type": "display_data"
    },
    {
     "name": "stdout",
     "output_type": "stream",
     "text": [
      "i : 8\n",
      "j : 0\n",
      "[[ 1.11098493e-04 -4.77540378e-05  4.03754183e-05 -8.10470912e-05\n",
      "   1.83837455e-05 -1.21599602e-04  4.29925184e-04  8.98321266e-05\n",
      "   5.71898466e-01  1.82927695e-04]]\n",
      "[-0.82022191]\n"
     ]
    },
    {
     "data": {
      "image/png": "[encoded data removed]",
      "text/plain": [
       "<Figure size 432x288 with 1 Axes>"
      ]
     },
     "metadata": {
      "needs_background": "light"
     },
     "output_type": "display_data"
    },
    {
     "name": "stdout",
     "output_type": "stream",
     "text": [
      "i : 8\n",
      "j : 1\n",
      "[[ 1.11098493e-04 -4.77540378e-05  4.03754183e-05 -8.10470912e-05\n",
      "   1.83837455e-05 -1.21599602e-04  4.29925184e-04  8.98321266e-05\n",
      "   5.71898466e-01  1.82927695e-04]]\n",
      "[-0.82022191]\n"
     ]
    },
    {
     "data": {
      "image/png": "[encoded data removed]",
      "text/plain": [
       "<Figure size 432x288 with 1 Axes>"
      ]
     },
     "metadata": {
      "needs_background": "light"
     },
     "output_type": "display_data"
    },
    {
     "name": "stdout",
     "output_type": "stream",
     "text": [
      "i : 8\n",
      "j : 2\n",
      "[[ 1.11098493e-04 -4.77540378e-05  4.03754183e-05 -8.10470912e-05\n",
      "   1.83837455e-05 -1.21599602e-04  4.29925184e-04  8.98321266e-05\n",
      "   5.71898466e-01  1.82927695e-04]]\n",
      "[-0.82022191]\n"
     ]
    },
    {
     "data": {
      "image/png": "[encoded data removed]",
      "text/plain": [
       "<Figure size 432x288 with 1 Axes>"
      ]
     },
     "metadata": {
      "needs_background": "light"
     },
     "output_type": "display_data"
    },
    {
     "name": "stdout",
     "output_type": "stream",
     "text": [
      "i : 8\n",
      "j : 3\n",
      "[[ 1.11098493e-04 -4.77540378e-05  4.03754183e-05 -8.10470912e-05\n",
      "   1.83837455e-05 -1.21599602e-04  4.29925184e-04  8.98321266e-05\n",
      "   5.71898466e-01  1.82927695e-04]]\n",
      "[-0.82022191]\n"
     ]
    },
    {
     "data": {
      "image/png": "[encoded data removed]",
      "text/plain": [
       "<Figure size 432x288 with 1 Axes>"
      ]
     },
     "metadata": {
      "needs_background": "light"
     },
     "output_type": "display_data"
    },
    {
     "name": "stdout",
     "output_type": "stream",
     "text": [
      "i : 8\n",
      "j : 4\n",
      "[[ 1.11098493e-04 -4.77540378e-05  4.03754183e-05 -8.10470912e-05\n",
      "   1.83837455e-05 -1.21599602e-04  4.29925184e-04  8.98321266e-05\n",
      "   5.71898466e-01  1.82927695e-04]]\n",
      "[-0.82022191]\n"
     ]
    },
    {
     "data": {
      "image/png": "[encoded data removed]",
      "text/plain": [
       "<Figure size 432x288 with 1 Axes>"
      ]
     },
     "metadata": {
      "needs_background": "light"
     },
     "output_type": "display_data"
    },
    {
     "name": "stdout",
     "output_type": "stream",
     "text": [
      "i : 8\n",
      "j : 5\n",
      "[[ 1.11098493e-04 -4.77540378e-05  4.03754183e-05 -8.10470912e-05\n",
      "   1.83837455e-05 -1.21599602e-04  4.29925184e-04  8.98321266e-05\n",
      "   5.71898466e-01  1.82927695e-04]]\n",
      "[-0.82022191]\n"
     ]
    },
    {
     "data": {
      "image/png": "[encoded data removed]",
      "text/plain": [
       "<Figure size 432x288 with 1 Axes>"
      ]
     },
     "metadata": {
      "needs_background": "light"
     },
     "output_type": "display_data"
    },
    {
     "name": "stdout",
     "output_type": "stream",
     "text": [
      "i : 8\n",
      "j : 6\n",
      "[[ 1.11098493e-04 -4.77540378e-05  4.03754183e-05 -8.10470912e-05\n",
      "   1.83837455e-05 -1.21599602e-04  4.29925184e-04  8.98321266e-05\n",
      "   5.71898466e-01  1.82927695e-04]]\n",
      "[-0.82022191]\n"
     ]
    },
    {
     "data": {
      "image/png": "[encoded data removed]",
      "text/plain": [
       "<Figure size 432x288 with 1 Axes>"
      ]
     },
     "metadata": {
      "needs_background": "light"
     },
     "output_type": "display_data"
    },
    {
     "name": "stdout",
     "output_type": "stream",
     "text": [
      "i : 8\n",
      "j : 7\n",
      "[[ 1.11098493e-04 -4.77540378e-05  4.03754183e-05 -8.10470912e-05\n",
      "   1.83837455e-05 -1.21599602e-04  4.29925184e-04  8.98321266e-05\n",
      "   5.71898466e-01  1.82927695e-04]]\n",
      "[-0.82022191]\n"
     ]
    },
    {
     "data": {
      "image/png": "[encoded data removed]",
      "text/plain": [
       "<Figure size 432x288 with 1 Axes>"
      ]
     },
     "metadata": {
      "needs_background": "light"
     },
     "output_type": "display_data"
    },
    {
     "name": "stdout",
     "output_type": "stream",
     "text": [
      "i : 8\n",
      "j : 8\n",
      "[[ 1.11098493e-04 -4.77540378e-05  4.03754183e-05 -8.10470912e-05\n",
      "   1.83837455e-05 -1.21599602e-04  4.29925184e-04  8.98321266e-05\n",
      "   5.71898466e-01  1.82927695e-04]]\n",
      "[-0.82022191]\n"
     ]
    },
    {
     "data": {
      "image/png": "[encoded data removed]",
      "text/plain": [
       "<Figure size 432x288 with 1 Axes>"
      ]
     },
     "metadata": {
      "needs_background": "light"
     },
     "output_type": "display_data"
    },
    {
     "name": "stdout",
     "output_type": "stream",
     "text": [
      "i : 8\n",
      "j : 9\n",
      "[[ 1.11098493e-04 -4.77540378e-05  4.03754183e-05 -8.10470912e-05\n",
      "   1.83837455e-05 -1.21599602e-04  4.29925184e-04  8.98321266e-05\n",
      "   5.71898466e-01  1.82927695e-04]]\n",
      "[-0.82022191]\n"
     ]
    },
    {
     "data": {
      "image/png": "[encoded data removed]",
      "text/plain": [
       "<Figure size 432x288 with 1 Axes>"
      ]
     },
     "metadata": {
      "needs_background": "light"
     },
     "output_type": "display_data"
    },
    {
     "name": "stdout",
     "output_type": "stream",
     "text": [
      "i : 9\n",
      "j : 0\n",
      "[[ 1.11098493e-04 -4.77540378e-05  4.03754183e-05 -8.10470912e-05\n",
      "   1.83837455e-05 -1.21599602e-04  4.29925184e-04  8.98321266e-05\n",
      "   5.71898466e-01  1.82927695e-04]]\n",
      "[-0.82022191]\n"
     ]
    },
    {
     "data": {
      "image/png": "[encoded data removed]",
      "text/plain": [
       "<Figure size 432x288 with 1 Axes>"
      ]
     },
     "metadata": {
      "needs_background": "light"
     },
     "output_type": "display_data"
    },
    {
     "name": "stdout",
     "output_type": "stream",
     "text": [
      "i : 9\n",
      "j : 1\n",
      "[[ 1.11098493e-04 -4.77540378e-05  4.03754183e-05 -8.10470912e-05\n",
      "   1.83837455e-05 -1.21599602e-04  4.29925184e-04  8.98321266e-05\n",
      "   5.71898466e-01  1.82927695e-04]]\n",
      "[-0.82022191]\n"
     ]
    },
    {
     "data": {
      "image/png": "[encoded data removed]",
      "text/plain": [
       "<Figure size 432x288 with 1 Axes>"
      ]
     },
     "metadata": {
      "needs_background": "light"
     },
     "output_type": "display_data"
    },
    {
     "name": "stdout",
     "output_type": "stream",
     "text": [
      "i : 9\n",
      "j : 2\n",
      "[[ 1.11098493e-04 -4.77540378e-05  4.03754183e-05 -8.10470912e-05\n",
      "   1.83837455e-05 -1.21599602e-04  4.29925184e-04  8.98321266e-05\n",
      "   5.71898466e-01  1.82927695e-04]]\n",
      "[-0.82022191]\n"
     ]
    },
    {
     "data": {
      "image/png": "[encoded data removed]",
      "text/plain": [
       "<Figure size 432x288 with 1 Axes>"
      ]
     },
     "metadata": {
      "needs_background": "light"
     },
     "output_type": "display_data"
    },
    {
     "name": "stdout",
     "output_type": "stream",
     "text": [
      "i : 9\n",
      "j : 3\n",
      "[[ 1.11098493e-04 -4.77540378e-05  4.03754183e-05 -8.10470912e-05\n",
      "   1.83837455e-05 -1.21599602e-04  4.29925184e-04  8.98321266e-05\n",
      "   5.71898466e-01  1.82927695e-04]]\n",
      "[-0.82022191]\n"
     ]
    },
    {
     "data": {
      "image/png": "[encoded data removed]",
      "text/plain": [
       "<Figure size 432x288 with 1 Axes>"
      ]
     },
     "metadata": {
      "needs_background": "light"
     },
     "output_type": "display_data"
    },
    {
     "name": "stdout",
     "output_type": "stream",
     "text": [
      "i : 9\n",
      "j : 4\n",
      "[[ 1.11098493e-04 -4.77540378e-05  4.03754183e-05 -8.10470912e-05\n",
      "   1.83837455e-05 -1.21599602e-04  4.29925184e-04  8.98321266e-05\n",
      "   5.71898466e-01  1.82927695e-04]]\n",
      "[-0.82022191]\n"
     ]
    },
    {
     "data": {
      "image/png": "[encoded data removed]",
      "text/plain": [
       "<Figure size 432x288 with 1 Axes>"
      ]
     },
     "metadata": {
      "needs_background": "light"
     },
     "output_type": "display_data"
    },
    {
     "name": "stdout",
     "output_type": "stream",
     "text": [
      "i : 9\n",
      "j : 5\n",
      "[[ 1.11098493e-04 -4.77540378e-05  4.03754183e-05 -8.10470912e-05\n",
      "   1.83837455e-05 -1.21599602e-04  4.29925184e-04  8.98321266e-05\n",
      "   5.71898466e-01  1.82927695e-04]]\n",
      "[-0.82022191]\n"
     ]
    },
    {
     "data": {
      "image/png": "[encoded data removed]",
      "text/plain": [
       "<Figure size 432x288 with 1 Axes>"
      ]
     },
     "metadata": {
      "needs_background": "light"
     },
     "output_type": "display_data"
    },
    {
     "name": "stdout",
     "output_type": "stream",
     "text": [
      "i : 9\n",
      "j : 6\n",
      "[[ 1.11098493e-04 -4.77540378e-05  4.03754183e-05 -8.10470912e-05\n",
      "   1.83837455e-05 -1.21599602e-04  4.29925184e-04  8.98321266e-05\n",
      "   5.71898466e-01  1.82927695e-04]]\n",
      "[-0.82022191]\n"
     ]
    },
    {
     "data": {
      "image/png": "[encoded data removed]",
      "text/plain": [
       "<Figure size 432x288 with 1 Axes>"
      ]
     },
     "metadata": {
      "needs_background": "light"
     },
     "output_type": "display_data"
    },
    {
     "name": "stdout",
     "output_type": "stream",
     "text": [
      "i : 9\n",
      "j : 7\n",
      "[[ 1.11098493e-04 -4.77540378e-05  4.03754183e-05 -8.10470912e-05\n",
      "   1.83837455e-05 -1.21599602e-04  4.29925184e-04  8.98321266e-05\n",
      "   5.71898466e-01  1.82927695e-04]]\n",
      "[-0.82022191]\n"
     ]
    },
    {
     "data": {
      "image/png": "[encoded data removed]",
      "text/plain": [
       "<Figure size 432x288 with 1 Axes>"
      ]
     },
     "metadata": {
      "needs_background": "light"
     },
     "output_type": "display_data"
    },
    {
     "name": "stdout",
     "output_type": "stream",
     "text": [
      "i : 9\n",
      "j : 8\n",
      "[[ 1.11098493e-04 -4.77540378e-05  4.03754183e-05 -8.10470912e-05\n",
      "   1.83837455e-05 -1.21599602e-04  4.29925184e-04  8.98321266e-05\n",
      "   5.71898466e-01  1.82927695e-04]]\n",
      "[-0.82022191]\n"
     ]
    },
    {
     "data": {
      "image/png": "[encoded data removed]",
      "text/plain": [
       "<Figure size 432x288 with 1 Axes>"
      ]
     },
     "metadata": {
      "needs_background": "light"
     },
     "output_type": "display_data"
    },
    {
     "name": "stdout",
     "output_type": "stream",
     "text": [
      "i : 9\n",
      "j : 9\n",
      "[[ 1.11098493e-04 -4.77540378e-05  4.03754183e-05 -8.10470912e-05\n",
      "   1.83837455e-05 -1.21599602e-04  4.29925184e-04  8.98321266e-05\n",
      "   5.71898466e-01  1.82927695e-04]]\n",
      "[-0.82022191]\n"
     ]
    },
    {
     "data": {
      "image/png": "[encoded data removed]",
      "text/plain": [
       "<Figure size 432x288 with 1 Axes>"
      ]
     },
     "metadata": {
      "needs_background": "light"
     },
     "output_type": "display_data"
    }
   ],
   "source": [
    "#from matplotlib.colors import ListedColormap\n",
    "import matplotlib.pyplot as plt\n",
    "%matplotlib inline\n",
    "\n",
    "print(\"Graph predicting stroke using Heart Disease and Average Glucose\")\n",
    "# Plot data points and color using their class\n",
    "color = ['red' if stroke == 1 else 'green' for stroke in y_train]\n",
    "for i in range(0,10):\n",
    "    for j in range(0,10):\n",
    "        print(\"i :\",i)\n",
    "        print(\"j :\",j)\n",
    "        plt.scatter(X_train[:,i], X_train[:,j], c=color)\n",
    "        print(classifier.coef_)\n",
    "        print(classifier.intercept_)\n",
    "        # Create the hyperplane\n",
    "        w = classifier.coef_[0]\n",
    "        a = -w[i] / w[j]\n",
    "        xx = np.linspace(-2.5, 2.5)\n",
    "        yy = a * xx - (classifier.intercept_[0]) / w[j]\n",
    "\n",
    "        # Plot the hyperplane\n",
    "        plt.plot(xx, yy)\n",
    "        plt.axis(\"off\"), plt.show();\n"
   ]
  },
  {
   "cell_type": "code",
   "execution_count": null,
   "metadata": {},
   "outputs": [],
   "source": []
  }
 ],
 "metadata": {
  "kernelspec": {
   "display_name": "Python 3",
   "language": "python",
   "name": "python3"
  },
  "language_info": {
   "codemirror_mode": {
    "name": "ipython",
    "version": 3
   },
   "file_extension": ".py",
   "mimetype": "text/x-python",
   "name": "python",
   "nbconvert_exporter": "python",
   "pygments_lexer": "ipython3",
   "version": "3.7.3"
  }
 },
 "nbformat": 4,
 "nbformat_minor": 2
}
